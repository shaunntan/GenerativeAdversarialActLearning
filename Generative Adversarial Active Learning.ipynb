{
 "cells": [
  {
   "cell_type": "code",
   "execution_count": null,
   "id": "5cf7cae7",
   "metadata": {},
   "outputs": [],
   "source": [
    "from trainers.gaaltrainer import GAALTrainer\n",
    "from trainers.activesvmtrainer import ActiveSVMTrainer\n",
    "from trainers.randomtrainer import RandomTrainer\n",
    "from trainers.fullysupervisedtrainer import FSTrainer\n",
    "from trainers.simplegantrainer import SimpleGANTrainer\n",
    "import dill as pickle"
   ]
  },
  {
   "cell_type": "markdown",
   "id": "c2f6d3cc",
   "metadata": {},
   "source": [
    "Instructions on the use of the functions can be found in the docstrings which can be viewed using the following command"
   ]
  },
  {
   "cell_type": "code",
   "execution_count": null,
   "id": "cf0381ab",
   "metadata": {},
   "outputs": [],
   "source": [
    "?GAALTrainer"
   ]
  },
  {
   "cell_type": "markdown",
   "id": "edccc2ae",
   "metadata": {},
   "source": [
    "Perform 10 loops of each and obtain the accuracies of the classifier start at 50 labelled samples, ending at 350 labelled samples."
   ]
  },
  {
   "cell_type": "markdown",
   "id": "1c796740",
   "metadata": {},
   "source": [
    "## GAAL"
   ]
  },
  {
   "cell_type": "code",
   "execution_count": null,
   "id": "628788c8",
   "metadata": {
    "scrolled": true
   },
   "outputs": [],
   "source": [
    "# GAAL Example - train and test on mnist 5 & 7\n",
    "classifier_acc_mnistmnist_gaal = []\n",
    "classifier_nsamples_mnistmnist_gaal = []\n",
    "for _ in range(10):\n",
    "    gaal = GAALTrainer(traindatasettype='mnist', testdatasettype='mnist', \n",
    "                       generatorpath='./gans/mnist/generator_model_1000.h5', \n",
    "                       oraclepath='./oracles/mnist57.h5', \n",
    "                       n_samples_end=350, threshold=1e-8, \n",
    "                       start_samples=50, latent_dim=100)\n",
    "    classifier_acc_mnistmnist_gaal.append(gaal.learner_acc_history)\n",
    "    classifier_nsamples_mnistmnist_gaal.append(gaal.n_samples)"
   ]
  },
  {
   "cell_type": "code",
   "execution_count": null,
   "id": "df25e911",
   "metadata": {},
   "outputs": [],
   "source": [
    "# # Save results to pickle\n",
    "# result_gaal_mnistmnist = ['GAAL train and test on mnist', classifier_acc_mnistmnist_gaal, classifier_nsamples_mnistmnist_gaal, gaal.x_train_end, gaal.y_train_end]\n",
    "# with open('./results/result_gaal_mnistmnist.pkl', 'wb') as file:\n",
    "#     pickle.dump(result_gaal_mnistmnist, file)"
   ]
  },
  {
   "cell_type": "markdown",
   "id": "f68b03a6",
   "metadata": {},
   "source": [
    "## GAAL with WGAN\n",
    "\n",
    "Only difference is the generator used."
   ]
  },
  {
   "cell_type": "code",
   "execution_count": null,
   "id": "de977dfa",
   "metadata": {
    "scrolled": true
   },
   "outputs": [],
   "source": [
    "# GAAL WGAN Example - train and test on cifar10\n",
    "classifier_acc_cifar10_gaal = []\n",
    "classifier_nsamples_cifar10_gaal = []\n",
    "for _ in range(10):\n",
    "    gaal = GAALTrainer(traindatasettype='cifar10', testdatasettype='cifar10', \n",
    "                       generatorpath='./gans/cifar10-wgan/generator_model_1500.h5', \n",
    "                       oraclepath='./oracles/cifar10ha.h5', \n",
    "                       n_samples_end=350, threshold=1e-8, \n",
    "                       start_samples=50, latent_dim=100)\n",
    "    classifier_acc_cifar10_gaal.append(gaal.learner_acc_history)\n",
    "    classifier_nsamples_cifar10_gaal.append(gaal.n_samples)\n",
    "\n"
   ]
  },
  {
   "cell_type": "code",
   "execution_count": null,
   "id": "a16a5f77",
   "metadata": {},
   "outputs": [],
   "source": [
    "# # Save results to pickle\n",
    "# result_gaal_cifar10_wgan = ['GAAL train and test on cifar10, WGAN', classifier_acc_cifar10_gaal, classifier_nsamples_cifar10_gaal, gaal.x_train_end, gaal.y_train_end]\n",
    "# with open('./results/result_gaal_cifar10_wgan.pkl', 'wb') as file:\n",
    "#     pickle.dump(result_gaal_cifar10_wgan, file)"
   ]
  },
  {
   "cell_type": "markdown",
   "id": "39d374ac",
   "metadata": {},
   "source": [
    "## Active SVM"
   ]
  },
  {
   "cell_type": "code",
   "execution_count": null,
   "id": "11036671",
   "metadata": {
    "scrolled": true
   },
   "outputs": [],
   "source": [
    "# Active SVM Example - train and test on mnist 5 & 7\n",
    "classifier_acc_mnistmnist_activesvm = []\n",
    "classifier_nsamples_mnistmnist_activesvm = []\n",
    "for _ in range(10):\n",
    "    asvm = ActiveSVMTrainer(traindatasettype='mnist', testdatasettype='mnist', \n",
    "                            oraclepath='./oracles/mnist57.h5', n_samples_end=350, \n",
    "                            start_samples=50)\n",
    "    classifier_acc_mnistmnist_activesvm.append(asvm.learner_acc_history)\n",
    "    classifier_nsamples_mnistmnist_activesvm.append(asvm.n_samples)"
   ]
  },
  {
   "cell_type": "code",
   "execution_count": null,
   "id": "e2b2c380",
   "metadata": {},
   "outputs": [],
   "source": [
    "# # Save results to pickle\n",
    "# result_activesvm_mnistmnist = ['Active SVM train and test on mnist', classifier_acc_mnistmnist_activesvm, classifier_nsamples_mnistmnist_activesvm]\n",
    "# with open('./results/result_activesvm_mnistmnist.pkl', 'wb') as file:\n",
    "#     pickle.dump(result_activesvm_mnistmnist, file)"
   ]
  },
  {
   "cell_type": "markdown",
   "id": "24543703",
   "metadata": {},
   "source": [
    "## Random Sampling"
   ]
  },
  {
   "cell_type": "code",
   "execution_count": null,
   "id": "3c657c58",
   "metadata": {},
   "outputs": [],
   "source": [
    "# Random Sampling Example - train and test on mnist 5 & 7\n",
    "classifier_acc_mnistmnist_randomsampling = []\n",
    "classifier_nsamples_mnistmnist_randomsampling = []\n",
    "for _ in range(10):\n",
    "    rnd = RandomTrainer(traindatasettype='mnist', testdatasettype='mnist', \n",
    "                            n_samples_end=350, \n",
    "                            start_samples=50)\n",
    "    classifier_acc_mnistmnist_randomsampling.append(rnd.learner_acc_history)\n",
    "    classifier_nsamples_mnistmnist_randomsampling.append(rnd.n_samples)"
   ]
  },
  {
   "cell_type": "code",
   "execution_count": null,
   "id": "52a763bc",
   "metadata": {},
   "outputs": [],
   "source": [
    "# # Save results to pickle\n",
    "# result_random_mnistmnist = ['Random Sampling train and test on mnist', classifier_acc_mnistmnist_randomsampling, classifier_nsamples_mnistmnist_randomsampling]\n",
    "# with open('./results/result_random_mnistmnist.pkl', 'wb') as file:\n",
    "#     pickle.dump(result_random_mnistmnist, file)"
   ]
  },
  {
   "cell_type": "markdown",
   "id": "319373ec",
   "metadata": {},
   "source": [
    "## Simple GAN"
   ]
  },
  {
   "cell_type": "code",
   "execution_count": null,
   "id": "31e15edf",
   "metadata": {
    "scrolled": true
   },
   "outputs": [],
   "source": [
    "# Simple GAN Example - train and test on mnist 5 & 7\n",
    "classifier_acc_mnistmnist_simplegan = []\n",
    "classifier_nsamples_mnistmnist_simplegan = []\n",
    "for _ in range(10):\n",
    "    simplegan = SimpleGANTrainer(traindatasettype='mnist', testdatasettype='mnist', \n",
    "                       generatorpath='./gans/mnist/generator_model_1000.h5', \n",
    "                       oraclepath='./oracles/mnist57.h5', \n",
    "                       n_samples_end=350, threshold=1e-8, \n",
    "                       start_samples=50, latent_dim=100)\n",
    "    classifier_acc_mnistmnist_simplegan.append(simplegan.learner_acc_history)\n",
    "    classifier_nsamples_mnistmnist_simplegan.append(simplegan.n_samples)\n",
    "    \n"
   ]
  },
  {
   "cell_type": "code",
   "execution_count": null,
   "id": "7e8768eb",
   "metadata": {},
   "outputs": [],
   "source": [
    "# # Save results to pickle\n",
    "# result_simplegan_mnistmnist = ['Simple GAN train and test on mnist', classifier_acc_mnistmnist_simplegan, classifier_nsamples_mnistmnist_simplegan, simplegan.x_train_end, simplegan.y_train_end]\n",
    "# with open('./results/result_simplegan_mnistmnist.pkl', 'wb') as file:\n",
    "#     pickle.dump(result_simplegan_mnistmnist, file)"
   ]
  },
  {
   "cell_type": "markdown",
   "id": "e98b7d8e",
   "metadata": {},
   "source": [
    "# Fully Supervised Training"
   ]
  },
  {
   "cell_type": "code",
   "execution_count": null,
   "id": "7a8c313c",
   "metadata": {
    "scrolled": true
   },
   "outputs": [],
   "source": [
    "# Fully Supervised Example - train and test on mnist\n",
    "fs_mnistmnist = FSTrainer('mnist','mnist')"
   ]
  },
  {
   "cell_type": "code",
   "execution_count": null,
   "id": "dc0d58f5",
   "metadata": {},
   "outputs": [],
   "source": [
    "# # Save results to pickle\n",
    "# result_fs_mnistmnist = ['Fully Supervised train and test on mnist',fs_testacc_mnistmnist,fs_nsamples_mnistmnist]\n",
    "# with open('./results/result_fs_mnistmnist.pkl', 'wb') as file:\n",
    "#     pickle.dump(result_fs_mnistmnist, file)"
   ]
  }
 ],
 "metadata": {
  "kernelspec": {
   "display_name": "Python 3 (ipykernel)",
   "language": "python",
   "name": "python3"
  },
  "language_info": {
   "codemirror_mode": {
    "name": "ipython",
    "version": 3
   },
   "file_extension": ".py",
   "mimetype": "text/x-python",
   "name": "python",
   "nbconvert_exporter": "python",
   "pygments_lexer": "ipython3",
   "version": "3.9.11"
  }
 },
 "nbformat": 4,
 "nbformat_minor": 5
}
