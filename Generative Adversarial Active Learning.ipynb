{
 "cells": [
  {
   "cell_type": "code",
   "execution_count": null,
   "id": "325564ad",
   "metadata": {},
   "outputs": [],
   "source": [
    "from gaaltrainer import GAALTrainer\n",
    "from activesvmtrainer import ActiveSVMTrainer"
   ]
  },
  {
   "cell_type": "markdown",
   "id": "4307b8f3",
   "metadata": {},
   "source": [
    "Perform 10 loops of each and obtain the accuracies of the classifier start at 50 labelled samples, ending at 500 labelled samples."
   ]
  },
  {
   "cell_type": "code",
   "execution_count": null,
   "id": "c7df09d5",
   "metadata": {},
   "outputs": [],
   "source": [
    "# GAAL - train and test on mnist 5 & 7\n",
    "classifier_acc_mnist57_gaal = []\n",
    "classifier_nsamples_mnist57_gaal = []\n",
    "for _ in range(10):\n",
    "    gaal = GAALTrainer(traindatasettype='mnist', testdatasettype='mnist', \n",
    "                       generatorpath='./gans/mnist/generator_model_100.h5', \n",
    "                       oraclepath='./oracles/mnist57.h5', \n",
    "                       n_samples_end=500, threshold=1e-8, \n",
    "                       start_samples=50, latent_dim=100)\n",
    "    classifier_acc_mnist57_gaal.append(gaal.learner_acc_history)\n",
    "    classifier_nsamples_mnist57_gaal.append(gaal.n_samples)"
   ]
  },
  {
   "cell_type": "code",
   "execution_count": null,
   "id": "fe990195",
   "metadata": {},
   "outputs": [],
   "source": [
    "# GAAL - train and test on mnist 5 & 7\n",
    "classifier_acc_mnist57_activesvm = []\n",
    "classifier_nsamples_mnist57_activesvm = []\n",
    "for _ in range(10):\n",
    "    asvm = ActiveSVMTrainer(datasettype, oraclepath, n_samples_end, start_samples)\n",
    "    classifier_acc_mnist57_activesvm.append(asvm.learner_acc_history)\n",
    "    classifier_nsamples_mnist57_activesvm.append(asvm.n_samples)"
   ]
  }
 ],
 "metadata": {
  "kernelspec": {
   "display_name": "Python 3 (ipykernel)",
   "language": "python",
   "name": "python3"
  },
  "language_info": {
   "codemirror_mode": {
    "name": "ipython",
    "version": 3
   },
   "file_extension": ".py",
   "mimetype": "text/x-python",
   "name": "python",
   "nbconvert_exporter": "python",
   "pygments_lexer": "ipython3",
   "version": "3.9.6"
  }
 },
 "nbformat": 4,
 "nbformat_minor": 5
}
