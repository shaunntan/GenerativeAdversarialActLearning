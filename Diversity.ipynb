{
 "cells": [
  {
   "cell_type": "code",
   "execution_count": 123,
   "metadata": {},
   "outputs": [],
   "source": [
    "import numpy as np\n",
    "from sklearn.svm import SVC\n",
    "from sklearn.metrics import accuracy_score\n",
    "import tensorflow as tf\n",
    "from tensorflow.keras.models import load_model\n",
    "# from extra_keras_datasets import usps\n",
    "import usps.usps as usps\n",
    "import matplotlib.pyplot as plt"
   ]
  },
  {
   "cell_type": "code",
   "execution_count": 2,
   "metadata": {},
   "outputs": [],
   "source": [
    "def loaddata(traindatasettype, testdatasettype, start_samples):\n",
    "    if traindatasettype == 'mnist':\n",
    "        (x_train, y_train), (x_test, y_test) = tf.keras.datasets.mnist.load_data()\n",
    "        x_train = (x_train[(y_train == 5) | (y_train == 7),]- 127.5) / 127.5\n",
    "        x_train = np.expand_dims(x_train, axis=3)\n",
    "        y_train = y_train[(y_train == 5) | (y_train == 7)]\n",
    "        y_train = np.where(y_train == 5, 0, 1).reshape((-1,1))\n",
    "\n",
    "        if testdatasettype == 'mnist':\n",
    "            x_test = (x_test[(y_test == 5) | (y_test == 7),]- 127.5) / 127.5\n",
    "            x_test = np.expand_dims(x_test, axis=3)\n",
    "            y_test = y_test[(y_test == 5) | (y_test == 7)]\n",
    "            y_test = np.where(y_test == 5, 0, 1).reshape((-1,1))\n",
    "\n",
    "        elif testdatasettype == 'usps':\n",
    "            (x_test, y_test), (_, _) = usps.load_data()\n",
    "\n",
    "            y_test = y_test.astype('int')\n",
    "            x_test = x_test[(y_test == 5) | (y_test == 7),]\n",
    "            x_test = np.expand_dims(x_test, axis=3)\n",
    "            x_test = (x_test + 1) / 2\n",
    "            x_test = tf.image.pad_to_bounding_box(x_test,4,4,24,24)\n",
    "            x_test = tf.image.resize(x_test, [28,28])\n",
    "            x_test = (x_test * 2) - 1\n",
    "\n",
    "            y_test = y_test[(y_test == 5) | (y_test == 7)]\n",
    "            y_test = np.where(y_test == 5, 0, 1).reshape((-1,1))\n",
    "\n",
    "    elif traindatasettype == 'cifar10' and testdatasettype == 'cifar10':\n",
    "        (x_train, y_train), (x_test, y_test) = tf.keras.datasets.cifar10.load_data()\n",
    "        y_train = np.squeeze(y_train)\n",
    "        y_test = np.squeeze(y_test)\n",
    "        x_train = (x_train[(y_train == 1) | (y_train == 7),]- 127.5) / 127.5\n",
    "        y_train = y_train[(y_train == 1) | (y_train == 7)]\n",
    "        y_train = np.where(y_train == 1, 0, 1).reshape((-1,1))\n",
    "\n",
    "        x_test = (x_test[(y_test == 1) | (y_test == 7),]- 127.5) / 127.5\n",
    "        y_test = y_test[(y_test == 1) | (y_test == 7)]\n",
    "        y_test = np.where(y_test == 1, 0, 1).reshape((-1,1))\n",
    "\n",
    "    # np.random.seed(0)\n",
    "    rand_idx = np.random.choice(np.arange(x_train.shape[0]), size = start_samples, replace = False)\n",
    "    x_train = x_train[rand_idx]\n",
    "    y_train = y_train[rand_idx]\n",
    "\n",
    "    return x_train, y_train, x_test, y_test\n"
   ]
  },
  {
   "cell_type": "code",
   "execution_count": 3,
   "metadata": {},
   "outputs": [],
   "source": [
    "x_train, y_train, x_test, y_test = loaddata('mnist','mnist',50)"
   ]
  },
  {
   "cell_type": "code",
   "execution_count": 5,
   "metadata": {},
   "outputs": [],
   "source": [
    "def trainsvc(xtrain, ytrain):\n",
    "    x = np.squeeze(xtrain)\n",
    "    xt = x.reshape((x.shape[0],-1))\n",
    "    svc = SVC(kernel='linear', gamma=0.001).fit(xt, ytrain.ravel())\n",
    "    return svc\n",
    "\n",
    "svc = trainsvc(x_train, y_train)"
   ]
  },
  {
   "cell_type": "code",
   "execution_count": 51,
   "metadata": {},
   "outputs": [
    {
     "name": "stdout",
     "output_type": "stream",
     "text": [
      "WARNING:tensorflow:No training configuration found in the save file, so the model was *not* compiled. Compile it manually.\n"
     ]
    }
   ],
   "source": [
    "def loadgenerator(generatorpath):\n",
    "    generator = load_model(generatorpath)\n",
    "    generator.trainable = False\n",
    "    return generator\n",
    "\n",
    "generator = loadgenerator('./gans/mnist/generator_model_1000.h5')"
   ]
  },
  {
   "cell_type": "code",
   "execution_count": 8,
   "metadata": {},
   "outputs": [],
   "source": [
    "def loadoracle(oraclepath):\n",
    "    oracle = load_model(oraclepath)\n",
    "    oracle.trainable = False\n",
    "    return oracle\n",
    "\n",
    "oracle = loadoracle('./oracles/mnist57.h5')"
   ]
  },
  {
   "cell_type": "code",
   "execution_count": 100,
   "metadata": {},
   "outputs": [
    {
     "name": "stdout",
     "output_type": "stream",
     "text": [
      "Classifier Accuracy Start: 0.9661458333333334\n"
     ]
    }
   ],
   "source": [
    "n_samples_end = 350\n",
    "latent_dim = 100\n",
    "traindatasettype = 'mnist'\n",
    "L = 0.0001\n",
    "\n",
    "x_test = np.squeeze(x_test)\n",
    "x_test = x_test.reshape((x_test.shape[0],-1))\n",
    "\n",
    "y_test = y_test.ravel()\n",
    "\n",
    "learner_acc = []\n",
    "n_samples = []\n",
    "\n",
    "n_samples.append(x_train.shape[0])\n",
    "\n",
    "n_samples_this = x_train.shape[0]\n",
    "\n",
    "svc = trainsvc(x_train, y_train)\n",
    "svc_preds = svc.predict(x_test)\n",
    "acc = accuracy_score(y_test, svc_preds)\n",
    "print(f'Classifier Accuracy Start: {acc}')\n",
    "learner_acc.append(acc)"
   ]
  },
  {
   "cell_type": "code",
   "execution_count": 154,
   "metadata": {},
   "outputs": [
    {
     "data": {
      "text/plain": [
       "[<matplotlib.lines.Line2D at 0x187b9d60190>]"
      ]
     },
     "execution_count": 154,
     "metadata": {},
     "output_type": "execute_result"
    },
    {
     "data": {
      "image/png": "[encoded data removed]",
      "text/plain": [
       "<Figure size 432x288 with 1 Axes>"
      ]
     },
     "metadata": {
      "needs_background": "light"
     },
     "output_type": "display_data"
    }
   ],
   "source": [
    "\n",
    "# while n_samples_this < n_samples_end:\n",
    "    # train an svc using the training set\n",
    "    \n",
    "w = svc.coef_\n",
    "b = svc.intercept_\n",
    "\n",
    "w = tf.cast(tf.reshape(tf.Variable(w), [-1]), tf.float32)\n",
    "b = tf.cast(tf.Variable(b), tf.float32)\n",
    "\n",
    "z = np.random.randn(100).reshape((1,-1))\n",
    "z = tf.Variable(z)\n",
    "\n",
    "x_train_flat = tf.keras.layers.Flatten()(tf.Variable(x_train, dtype=tf.dtypes.float32))\n",
    "\n",
    "\n",
    "opt = tf.keras.optimizers.SGD()\n",
    "losstrack = []\n",
    "\n",
    "for _ in range(100):\n",
    "    with tf.GradientTape() as tape:\n",
    "        # Forward pass\n",
    "        tape.watch(z)\n",
    "        f = generator(z)\n",
    "        f = tf.reshape(f, [-1])\n",
    "        dot = tf.tensordot(f, w, 1) + b\n",
    "\n",
    "        ones = tf.ones(x_train_flat.shape[0], dtype=tf.dtypes.float32)\n",
    "        ff = tf.tensordot(ones, f, axes = 0)\n",
    "        d = x_train_flat - ff\n",
    "        dd = tf.reduce_mean(tf.math.reduce_euclidean_norm(d, 1))\n",
    "\n",
    "        loss = tf.norm(dot) - 0.001 * dd\n",
    "        losstrack.append(loss)\n",
    "        \n",
    "    # Calculate gradients with respect to every trainable variable\n",
    "    grad = tape.gradient(loss, z)\n",
    "    \n",
    "    opt.apply_gradients(zip([grad], [z]))\n",
    "\n",
    "zt = z.numpy()\n",
    "gen = generator.predict(zt)\n",
    "\n",
    "plt.plot(losstrack)\n"
   ]
  }
 ],
 "metadata": {
  "interpreter": {
   "hash": "ffdd9772045f3902e66c518f19bbf25462e0c16dd397ab346e1f03a4651dc966"
  },
  "kernelspec": {
   "display_name": "Python 3.9.11 64-bit",
   "language": "python",
   "name": "python3"
  },
  "language_info": {
   "codemirror_mode": {
    "name": "ipython",
    "version": 3
   },
   "file_extension": ".py",
   "mimetype": "text/x-python",
   "name": "python",
   "nbconvert_exporter": "python",
   "pygments_lexer": "ipython3",
   "version": "3.9.11"
  },
  "orig_nbformat": 4
 },
 "nbformat": 4,
 "nbformat_minor": 2
}
