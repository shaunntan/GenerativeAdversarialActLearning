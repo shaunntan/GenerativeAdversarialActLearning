{
 "cells": [
  {
   "cell_type": "code",
   "execution_count": 1,
   "id": "4b75f9f1",
   "metadata": {},
   "outputs": [],
   "source": [
    "import numpy as np\n",
    "import matplotlib.pyplot as plt\n",
    "import pandas as pd\n",
    "\n",
    "import tensorflow as tf\n",
    "import tensorflow_datasets as tfds\n",
    "from tensorflow.keras.utils import to_categorical\n",
    "from tensorflow.keras.applications.vgg16 import VGG16\n",
    "from tensorflow.keras.layers import Dense, Flatten\n",
    "from tensorflow.keras.callbacks import EarlyStopping, ModelCheckpoint\n",
    "from tensorflow.keras.models import load_model\n",
    "from tensorflow.keras.preprocessing.image import ImageDataGenerator"
   ]
  },
  {
   "cell_type": "code",
   "execution_count": 2,
   "id": "d792639c",
   "metadata": {},
   "outputs": [],
   "source": [
    "(x_train, y_train), (x_test, y_test) = tf.keras.datasets.mnist.load_data()"
   ]
  },
  {
   "cell_type": "code",
   "execution_count": 3,
   "id": "b9e2a690",
   "metadata": {},
   "outputs": [],
   "source": [
    "# 5 = Class 0, 7 = Class 1\n",
    "x57_train = x_train[(y_train == 5) | (y_train == 7),]\n",
    "y57_train = y_train[(y_train == 5) | (y_train == 7)]\n",
    "y57_train = np.where(y57_train == 5, 0, 1).reshape((-1,1))\n",
    "\n",
    "x57_test = x_test[(y_test == 5) | (y_test == 7),]\n",
    "y57_test = y_test[(y_test == 5) | (y_test == 7)]\n",
    "y57_test = np.where(y57_test == 5, 0, 1).reshape((-1,1))"
   ]
  },
  {
   "cell_type": "code",
   "execution_count": 4,
   "id": "96d39212",
   "metadata": {},
   "outputs": [],
   "source": [
    "x57_train = np.expand_dims(x57_train, axis = 3)\n",
    "x57_train = np.repeat(x57_train,3,axis = 3)\n",
    "x57_train = tf.image.resize(x57_train, [32,32])/255\n",
    "\n",
    "x57_test = np.expand_dims(x57_test, axis = 3)\n",
    "x57_test = np.repeat(x57_test,3,axis = 3)\n",
    "x57_test = tf.image.resize(x57_test, [32,32])/255"
   ]
  },
  {
   "cell_type": "code",
   "execution_count": 7,
   "id": "c233c0b8",
   "metadata": {},
   "outputs": [
    {
     "data": {
      "text/plain": [
       "TensorShape([32, 32, 3])"
      ]
     },
     "execution_count": 7,
     "metadata": {},
     "output_type": "execute_result"
    }
   ],
   "source": [
    "x57_train[0].shape"
   ]
  },
  {
   "cell_type": "code",
   "execution_count": 5,
   "id": "40be1e3d",
   "metadata": {},
   "outputs": [],
   "source": [
    "base_model = VGG16(input_shape = (x57_train[0].shape[0],x57_train[0].shape[1],3),\n",
    "                   include_top = False, weights = 'imagenet')"
   ]
  },
  {
   "cell_type": "code",
   "execution_count": 6,
   "id": "f878edde",
   "metadata": {},
   "outputs": [
    {
     "name": "stdout",
     "output_type": "stream",
     "text": [
      "Model: \"mnist57_oracle\"\n",
      "_________________________________________________________________\n",
      " Layer (type)                Output Shape              Param #   \n",
      "=================================================================\n",
      " input_2 (InputLayer)        [(None, 32, 32, 3)]       0         \n",
      "                                                                 \n",
      " vgg16 (Functional)          (None, 1, 1, 512)         14714688  \n",
      "                                                                 \n",
      " flatten (Flatten)           (None, 512)               0         \n",
      "                                                                 \n",
      " dense (Dense)               (None, 1)                 513       \n",
      "                                                                 \n",
      "=================================================================\n",
      "Total params: 14,715,201\n",
      "Trainable params: 14,715,201\n",
      "Non-trainable params: 0\n",
      "_________________________________________________________________\n"
     ]
    }
   ],
   "source": [
    "model_name = 'mnist57_oracle'\n",
    "\n",
    "inputs = tf.keras.Input(shape=(x57_train[0].shape[0],x57_train[0].shape[1],3))\n",
    "x = base_model(inputs, training=False)\n",
    "x = Flatten()(x)\n",
    "outputs = Dense(1, activation = 'sigmoid')(x)\n",
    "model = tf.keras.Model(inputs, outputs, name = model_name)\n",
    "model.summary()"
   ]
  },
  {
   "cell_type": "code",
   "execution_count": 7,
   "id": "a6197f18",
   "metadata": {},
   "outputs": [],
   "source": [
    "train_gen = ImageDataGenerator(\n",
    "    rotation_range=20,\n",
    "    shear_range=10, validation_split = 0.2)\n",
    "train_gen.fit(x57_train)"
   ]
  },
  {
   "cell_type": "code",
   "execution_count": 8,
   "id": "bc6d565d",
   "metadata": {},
   "outputs": [],
   "source": [
    "lr = 0.0001\n",
    "batchsize = 50\n",
    "path =\"./oracles/mnist57.h5\"\n",
    "model.compile(optimizer=tf.keras.optimizers.Adam(learning_rate=lr),\n",
    "              loss=tf.keras.losses.BinaryCrossentropy(from_logits=False),\n",
    "              metrics=['accuracy'])\n",
    "earlystop = EarlyStopping(monitor='val_accuracy', patience = 3 , restore_best_weights=True)\n",
    "# checkpoint = ModelCheckpoint(path, monitor = 'val_accuracy', save_best_only=True)\n",
    "callbacks = [earlystop]"
   ]
  },
  {
   "cell_type": "code",
   "execution_count": 9,
   "id": "b92e4a8a",
   "metadata": {},
   "outputs": [
    {
     "name": "stdout",
     "output_type": "stream",
     "text": [
      "Epoch 1/100\n",
      "186/186 [==============================] - 14s 48ms/step - loss: 0.0244 - accuracy: 0.9910 - val_loss: 0.0324 - val_accuracy: 0.9932\n",
      "Epoch 2/100\n",
      "186/186 [==============================] - 7s 40ms/step - loss: 0.0050 - accuracy: 0.9986 - val_loss: 2.6084e-04 - val_accuracy: 1.0000\n",
      "Epoch 3/100\n",
      "186/186 [==============================] - 8s 41ms/step - loss: 0.0063 - accuracy: 0.9982 - val_loss: 0.0012 - val_accuracy: 0.9996\n",
      "Epoch 4/100\n",
      "186/186 [==============================] - 7s 39ms/step - loss: 0.0038 - accuracy: 0.9990 - val_loss: 1.3444e-04 - val_accuracy: 1.0000\n",
      "Epoch 5/100\n",
      "186/186 [==============================] - 7s 39ms/step - loss: 8.5737e-04 - accuracy: 0.9996 - val_loss: 0.0025 - val_accuracy: 0.9987\n"
     ]
    }
   ],
   "source": [
    "model.fit(train_gen.flow(x57_train, y57_train, batch_size = batchsize, subset = 'training'),\n",
    "          validation_data=train_gen.flow(x57_train, y57_train, batch_size = batchsize, subset = 'validation'),\n",
    "          steps_per_epoch=len(x57_train)*0.8/batchsize,\n",
    "          epochs = 100, \n",
    "          callbacks = callbacks)\n",
    "model.save(path, save_format = 'h5')"
   ]
  },
  {
   "cell_type": "code",
   "execution_count": 10,
   "id": "dfbdcce3",
   "metadata": {},
   "outputs": [
    {
     "name": "stdout",
     "output_type": "stream",
     "text": [
      "Model: \"mnist57_oracle\"\n",
      "_________________________________________________________________\n",
      " Layer (type)                Output Shape              Param #   \n",
      "=================================================================\n",
      " input_2 (InputLayer)        [(None, 32, 32, 3)]       0         \n",
      "                                                                 \n",
      " vgg16 (Functional)          (None, 1, 1, 512)         14714688  \n",
      "                                                                 \n",
      " flatten (Flatten)           (None, 512)               0         \n",
      "                                                                 \n",
      " dense (Dense)               (None, 1)                 513       \n",
      "                                                                 \n",
      "=================================================================\n",
      "Total params: 14,715,201\n",
      "Trainable params: 14,715,201\n",
      "Non-trainable params: 0\n",
      "_________________________________________________________________\n"
     ]
    }
   ],
   "source": [
    "model = load_model(path)\n",
    "model.summary()"
   ]
  },
  {
   "cell_type": "code",
   "execution_count": 11,
   "id": "f0df9ac8",
   "metadata": {},
   "outputs": [],
   "source": [
    "preds = model.predict(x57_test)\n",
    "preds = np.squeeze(np.round(preds, 0).astype('int'))"
   ]
  },
  {
   "cell_type": "code",
   "execution_count": 12,
   "id": "912e47fc",
   "metadata": {},
   "outputs": [
    {
     "data": {
      "text/plain": [
       "1.0"
      ]
     },
     "execution_count": 12,
     "metadata": {},
     "output_type": "execute_result"
    }
   ],
   "source": [
    "np.mean(preds == np.squeeze(y57_test))"
   ]
  }
 ],
 "metadata": {
  "kernelspec": {
   "display_name": "Python 3 (ipykernel)",
   "language": "python",
   "name": "python3"
  },
  "language_info": {
   "codemirror_mode": {
    "name": "ipython",
    "version": 3
   },
   "file_extension": ".py",
   "mimetype": "text/x-python",
   "name": "python",
   "nbconvert_exporter": "python",
   "pygments_lexer": "ipython3",
   "version": "3.9.6"
  }
 },
 "nbformat": 4,
 "nbformat_minor": 5
}
