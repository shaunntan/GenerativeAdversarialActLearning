{
 "cells": [
  {
   "cell_type": "code",
   "execution_count": 1,
   "id": "438b4bff",
   "metadata": {},
   "outputs": [],
   "source": [
    "from sklearn.svm import SVC\n",
    "from sklearn.metrics import accuracy_score\n",
    "import tensorflow as tf\n",
    "from tensorflow.keras.models import load_model\n",
    "import numpy as np\n",
    "import matplotlib.pyplot as plt"
   ]
  },
  {
   "cell_type": "code",
   "execution_count": 2,
   "id": "4344e931",
   "metadata": {},
   "outputs": [],
   "source": [
    "def loaddata():\n",
    "    (x_train, y_train), (x_test, y_test) = tf.keras.datasets.mnist.load_data()\n",
    "    x_train = (x_train[(y_train == 5) | (y_train == 7),]- 127.5) / 127.5\n",
    "#     x_train = np.expand_dims(x_train, axis=3)\n",
    "    y_train = y_train[(y_train == 5) | (y_train == 7)]\n",
    "    y_train = np.where(y_train == 5, 0, 1).reshape((-1,1))\n",
    "\n",
    "    x_test = (x_test[(y_test == 5) | (y_test == 7),]- 127.5) / 127.5\n",
    "#     x_test = np.expand_dims(x_test, axis=3)\n",
    "    y_test = y_test[(y_test == 5) | (y_test == 7)]\n",
    "    y_test = np.where(y_test == 5, 0, 1).reshape((-1,1))\n",
    "\n",
    "    np.random.seed(0)\n",
    "    rand_idx = np.random.choice(np.arange(x_train.shape[0]), size = 10, replace = False)\n",
    "    inverse_idx = [i for i in np.arange(x_train.shape[0]) if i not in rand_idx]\n",
    "    x_train_labelled = x_train[rand_idx]\n",
    "    y_train_labelled = y_train[rand_idx]\n",
    "    x_train_unlabelled = x_train[inverse_idx]\n",
    "    y_train_unlabelled = y_train[inverse_idx]\n",
    "\n",
    "    return x_train_labelled, y_train_labelled, x_train_unlabelled, y_train_unlabelled, x_test, y_test"
   ]
  },
  {
   "cell_type": "code",
   "execution_count": 3,
   "id": "002e8cb4",
   "metadata": {},
   "outputs": [],
   "source": [
    "x_train_labelled, y_train_labelled, x_train_unlabelled, y_train_unlabelled, x_test, y_test = loaddata()\n",
    "\n",
    "x_test = np.squeeze(x_test)\n",
    "x_test = x_test.reshape((x_test.shape[0],-1))\n",
    "y_test = y_test.ravel()"
   ]
  },
  {
   "cell_type": "code",
   "execution_count": 4,
   "id": "fe3d2305",
   "metadata": {},
   "outputs": [],
   "source": [
    "def trainsvc(xtrain, ytrain):\n",
    "    x = np.squeeze(xtrain)\n",
    "    xt = x.reshape((x.shape[0],-1))\n",
    "    svc = SVC(kernel='linear', probability = True, gamma=0.001).fit(xt, ytrain.ravel())\n",
    "    return svc"
   ]
  },
  {
   "cell_type": "code",
   "execution_count": 5,
   "id": "116b7e18",
   "metadata": {},
   "outputs": [],
   "source": [
    "def getidxofnearesttoplane(svc, unlabelleddata):\n",
    "    unlabelleddata = np.squeeze(unlabelleddata)\n",
    "    unlabelleddata = unlabelleddata.reshape((unlabelleddata.shape[0],-1))\n",
    "    \n",
    "    w = svc.coef_\n",
    "    b = svc.intercept_\n",
    "    w_norm = np.linalg.norm(w)\n",
    "    dist_list = []\n",
    "\n",
    "    for r in range(unlabelleddata.shape[0]):\n",
    "        d = np.abs(np.dot(w,unlabelleddata[r]) + b)/w_norm\n",
    "        dist_list.append(d)\n",
    "    \n",
    "    idx_nearest_to_hyperplane = np.argmin(dist_list)\n",
    "    \n",
    "    return idx_nearest_to_hyperplane"
   ]
  },
  {
   "cell_type": "code",
   "execution_count": 6,
   "id": "e5ced09c",
   "metadata": {},
   "outputs": [],
   "source": [
    "def loadoracle(oraclepath):\n",
    "    oracle = load_model(oraclepath)\n",
    "    oracle.trainable = False\n",
    "    return oracle"
   ]
  },
  {
   "cell_type": "code",
   "execution_count": 7,
   "id": "44295a53",
   "metadata": {},
   "outputs": [],
   "source": [
    "oracle = loadoracle('./oracles/mnist57.h5')"
   ]
  },
  {
   "cell_type": "code",
   "execution_count": 176,
   "id": "cebf963a",
   "metadata": {},
   "outputs": [],
   "source": [
    "accuracy = []\n",
    "for i in range(5):\n",
    "    # update SVC\n",
    "    svc = trainsvc(x_train_labelled, y_train_labelled)\n",
    "    \n",
    "    # get test set accuracy\n",
    "    test_preds = svc.predict(x_test)\n",
    "    acc = accuracy_score(y_test, test_preds)\n",
    "    accuracy.append(acc)\n",
    "    \n",
    "    cnt = 0\n",
    "    while cnt < 10:\n",
    "        # get index of most uncertain sample\n",
    "        unsure_idx = getidxofnearesttoplane(svc, x_train_unlabelled)\n",
    "        # use oracle to predict uncertain sample\n",
    "        unsure_img = x_train_unlabelled[unsure_idx]\n",
    "        unsure_img = np.expand_dims(unsure_img, axis = 0)\n",
    "        unsure_img = np.expand_dims(unsure_img, axis = 3)\n",
    "        unsure_img_3c = np.repeat(unsure_img, 3, axis = 3)\n",
    "        unsure_img_3c_32 = (tf.image.resize(unsure_img_3c, [32,32]) + 1)/2\n",
    "        oracle_label = np.squeeze(oracle.predict(unsure_img_3c_32))\n",
    "        # get label of uncertain sample\n",
    "        new_label = np.reshape(np.round(oracle_label).astype('int'), (1,1))\n",
    "        new_labelled_img = np.expand_dims(x_train_unlabelled[unsure_idx], axis = 0)\n",
    "        # add to labelled set\n",
    "        y_train_labelled = np.concatenate((y_train_labelled, new_label), axis = 0)\n",
    "        x_train_labelled = np.concatenate((x_train_labelled, new_labelled_img), axis = 0)\n",
    "        # delete from unlabelled set\n",
    "        x_train_unlabelled = np.delete(x_train_unlabelled, unsure_idx, axis = 0)\n",
    "        y_train_unlabelled = np.delete(y_train_unlabelled, unsure_idx, axis = 0)\n",
    "        cnt += 1"
   ]
  },
  {
   "cell_type": "code",
   "execution_count": 177,
   "id": "1a69fb91",
   "metadata": {},
   "outputs": [
    {
     "data": {
      "text/plain": [
       "[<matplotlib.lines.Line2D at 0x120ea100a90>]"
      ]
     },
     "execution_count": 177,
     "metadata": {},
     "output_type": "execute_result"
    },
    {
     "data": {
      "image/png": "[encoded data removed]",
      "text/plain": [
       "<Figure size 432x288 with 1 Axes>"
      ]
     },
     "metadata": {
      "needs_background": "light"
     },
     "output_type": "display_data"
    }
   ],
   "source": [
    "plt.plot(accuracy)"
   ]
  },
  {
   "cell_type": "code",
   "execution_count": 80,
   "id": "e67bd9af",
   "metadata": {},
   "outputs": [
    {
     "data": {
      "text/plain": [
       "<matplotlib.image.AxesImage at 0x11f54cbb250>"
      ]
     },
     "execution_count": 80,
     "metadata": {},
     "output_type": "execute_result"
    },
    {
     "data": {
      "image/png": "[encoded data removed]",
      "text/plain": [
       "<Figure size 432x288 with 1 Axes>"
      ]
     },
     "metadata": {
      "needs_background": "light"
     },
     "output_type": "display_data"
    }
   ],
   "source": [
    "a = (x_train_unlabelled[np.argmax(np.abs((unlabelled_proba-0.5)))]*127.5) + 127.5\n",
    "a = a.astype('uint8')\n",
    "plt.imshow(a)"
   ]
  }
 ],
 "metadata": {
  "kernelspec": {
   "display_name": "Python 3 (ipykernel)",
   "language": "python",
   "name": "python3"
  },
  "language_info": {
   "codemirror_mode": {
    "name": "ipython",
    "version": 3
   },
   "file_extension": ".py",
   "mimetype": "text/x-python",
   "name": "python",
   "nbconvert_exporter": "python",
   "pygments_lexer": "ipython3",
   "version": "3.9.6"
  }
 },
 "nbformat": 4,
 "nbformat_minor": 5
}
