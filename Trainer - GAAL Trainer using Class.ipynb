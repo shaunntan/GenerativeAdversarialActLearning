{
 "cells": [
  {
   "cell_type": "code",
   "execution_count": 1,
   "id": "464a9b52",
   "metadata": {},
   "outputs": [],
   "source": [
    "from gaaltrainer import GAALTrainer"
   ]
  },
  {
   "cell_type": "code",
   "execution_count": 2,
   "id": "95166fe0",
   "metadata": {
    "scrolled": true
   },
   "outputs": [
    {
     "name": "stdout",
     "output_type": "stream",
     "text": [
      "Training and testing with cifar10\n",
      "WARNING:tensorflow:No training configuration found in the save file, so the model was *not* compiled. Compile it manually.\n",
      "Classifier Accuracy Start: 0.7155\n",
      "Generating latents\n",
      "added 1\n",
      "added 2\n",
      "added 3\n",
      "added 4\n",
      "added 5\n",
      "added 6\n",
      "added 7\n",
      "added 8\n",
      "added 9\n",
      "added 10\n",
      "No. of samples in training set: 35\n",
      "10 new samples added, updating SVC Classifier\n",
      "Classifier Accuracy: 0.7465\n",
      "\n",
      "Generating latents\n",
      "added 1\n",
      "added 2\n",
      "added 3\n",
      "added 4\n",
      "added 5\n",
      "added 6\n",
      "added 7\n",
      "added 8\n",
      "added 9\n",
      "added 10\n",
      "No. of samples in training set: 45\n",
      "10 new samples added, updating SVC Classifier\n",
      "Classifier Accuracy: 0.758\n",
      "\n",
      "Generating latents\n",
      "added 1\n",
      "added 2\n",
      "added 3\n",
      "added 4\n",
      "added 5\n",
      "added 6\n",
      "added 7\n",
      "added 8\n",
      "added 9\n",
      "added 10\n",
      "No. of samples in training set: 55\n",
      "10 new samples added, updating SVC Classifier\n",
      "Classifier Accuracy: 0.7605\n",
      "\n"
     ]
    }
   ],
   "source": [
    "generatorpath = './gans/cifar10/generator_model_1000.h5'\n",
    "oraclepath = './oracles/cifar10ha.h5'\n",
    "gaal = GAALTrainer('cifar10', 'cifar10', generatorpath, oraclepath, n_samples_end = 50, start_samples = 25 , threshold = 1e-7, latent_dim = 100)"
   ]
  },
  {
   "cell_type": "code",
   "execution_count": 3,
   "id": "7baeffc2",
   "metadata": {},
   "outputs": [
    {
     "data": {
      "text/plain": [
       "[<matplotlib.lines.Line2D at 0x1edb32b7e80>]"
      ]
     },
     "execution_count": 3,
     "metadata": {},
     "output_type": "execute_result"
    },
    {
     "data": {
      "image/png": "[encoded data removed]",
      "text/plain": [
       "<Figure size 432x288 with 1 Axes>"
      ]
     },
     "metadata": {
      "needs_background": "light"
     },
     "output_type": "display_data"
    }
   ],
   "source": [
    "import matplotlib.pyplot as plt\n",
    "plt.plot(gaal.n_samples, gaal.learner_acc_history)"
   ]
  },
  {
   "cell_type": "code",
   "execution_count": null,
   "id": "4666ce2b",
   "metadata": {},
   "outputs": [],
   "source": [
    "?GAALTrainer"
   ]
  }
 ],
 "metadata": {
  "kernelspec": {
   "display_name": "Python 3 (ipykernel)",
   "language": "python",
   "name": "python3"
  },
  "language_info": {
   "codemirror_mode": {
    "name": "ipython",
    "version": 3
   },
   "file_extension": ".py",
   "mimetype": "text/x-python",
   "name": "python",
   "nbconvert_exporter": "python",
   "pygments_lexer": "ipython3",
   "version": "3.9.6"
  }
 },
 "nbformat": 4,
 "nbformat_minor": 5
}
