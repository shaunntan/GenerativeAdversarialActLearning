{
 "cells": [
  {
   "cell_type": "code",
   "execution_count": 1,
   "id": "464a9b52",
   "metadata": {},
   "outputs": [],
   "source": [
    "from gaaltrainer import GAALTrainer"
   ]
  },
  {
   "cell_type": "code",
   "execution_count": 2,
   "id": "95166fe0",
   "metadata": {
    "scrolled": true
   },
   "outputs": [
    {
     "name": "stdout",
     "output_type": "stream",
     "text": [
      "Training on mnist, testing on usps\n"
     ]
    },
    {
     "name": "stderr",
     "output_type": "stream",
     "text": [
      "INFO:root:Loading dataset = usps\n",
      "WARNING:root:Please cite the following paper when using or referencing this Extra Keras Dataset:\n",
      "WARNING:root:Hull, J. J. (1994). A database for handwritten text recognition research. IEEE Transactions on pattern analysis and machine intelligence, 16(5), 550-554.\n"
     ]
    },
    {
     "name": "stdout",
     "output_type": "stream",
     "text": [
      "WARNING:tensorflow:No training configuration found in the save file, so the model was *not* compiled. Compile it manually.\n"
     ]
    },
    {
     "name": "stderr",
     "output_type": "stream",
     "text": [
      "WARNING:tensorflow:No training configuration found in the save file, so the model was *not* compiled. Compile it manually.\n"
     ]
    },
    {
     "name": "stdout",
     "output_type": "stream",
     "text": [
      "Learner Accuracy Start: 0.9467110741049126\n",
      "Round 1\n",
      "Generating latents\n",
      "Generating fake images using GAN\n",
      "Updating training set\n",
      "No. of samples in training set: 30\n",
      "Updating SVC\n",
      "Learner Accuracy: 0.9600333055786844\n",
      "\n",
      "Round 2\n",
      "Generating latents\n",
      "Generating fake images using GAN\n",
      "Updating training set\n",
      "No. of samples in training set: 34\n",
      "Updating SVC\n",
      "Learner Accuracy: 0.9558701082431307\n",
      "\n",
      "Round 3\n",
      "Generating latents\n",
      "Generating fake images using GAN\n",
      "Updating training set\n",
      "No. of samples in training set: 36\n",
      "Updating SVC\n",
      "Learner Accuracy: 0.9683597002497918\n",
      "\n",
      "Round 4\n",
      "Generating latents\n",
      "Generating fake images using GAN\n",
      "Updating training set\n",
      "No. of samples in training set: 39\n",
      "Updating SVC\n",
      "Learner Accuracy: 0.9875104079933389\n",
      "\n",
      "Round 5\n",
      "Generating latents\n",
      "Generating fake images using GAN\n",
      "Updating training set\n",
      "No. of samples in training set: 40\n",
      "Updating SVC\n",
      "Learner Accuracy: 0.9875104079933389\n",
      "\n",
      "Round 6\n",
      "Generating latents\n",
      "Generating fake images using GAN\n",
      "Updating training set\n",
      "No. of samples in training set: 44\n",
      "Updating SVC\n",
      "Learner Accuracy: 0.9891756869275604\n",
      "\n",
      "Round 7\n",
      "Generating latents\n",
      "Generating fake images using GAN\n",
      "Updating training set\n",
      "No. of samples in training set: 47\n",
      "Updating SVC\n",
      "Learner Accuracy: 0.9883430474604497\n",
      "\n",
      "Round 8\n",
      "Generating latents\n",
      "Generating fake images using GAN\n",
      "Updating training set\n",
      "No. of samples in training set: 50\n",
      "Updating SVC\n",
      "Learner Accuracy: 0.9866777685262281\n",
      "\n"
     ]
    }
   ],
   "source": [
    "generatorpath = './gans/mnist/generator_model_100.h5'\n",
    "oraclepath = './oracles/mnist57.h5'\n",
    "gaal = GAALTrainer('mnist', 'usps', generatorpath, oraclepath, n_samples_end = 50, start_samples = 25 , threshold = 1e-7)"
   ]
  },
  {
   "cell_type": "code",
   "execution_count": 3,
   "id": "7baeffc2",
   "metadata": {},
   "outputs": [
    {
     "data": {
      "text/plain": [
       "[<matplotlib.lines.Line2D at 0x26743669310>]"
      ]
     },
     "execution_count": 3,
     "metadata": {},
     "output_type": "execute_result"
    },
    {
     "data": {
      "image/png": "[encoded data removed]",
      "text/plain": [
       "<Figure size 432x288 with 1 Axes>"
      ]
     },
     "metadata": {
      "needs_background": "light"
     },
     "output_type": "display_data"
    }
   ],
   "source": [
    "import matplotlib.pyplot as plt\n",
    "plt.plot(gaal.n_samples, gaal.learner_acc_history)"
   ]
  },
  {
   "cell_type": "code",
   "execution_count": 4,
   "id": "4666ce2b",
   "metadata": {},
   "outputs": [],
   "source": [
    "?GAALTrainer"
   ]
  }
 ],
 "metadata": {
  "kernelspec": {
   "display_name": "Python 3 (ipykernel)",
   "language": "python",
   "name": "python3"
  },
  "language_info": {
   "codemirror_mode": {
    "name": "ipython",
    "version": 3
   },
   "file_extension": ".py",
   "mimetype": "text/x-python",
   "name": "python",
   "nbconvert_exporter": "python",
   "pygments_lexer": "ipython3",
   "version": "3.9.6"
  }
 },
 "nbformat": 4,
 "nbformat_minor": 5
}
