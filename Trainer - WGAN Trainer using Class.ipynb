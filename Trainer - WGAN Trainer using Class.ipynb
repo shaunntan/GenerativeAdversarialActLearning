{
 "cells": [
  {
   "cell_type": "code",
   "execution_count": 1,
   "id": "464a9b52",
   "metadata": {},
   "outputs": [],
   "source": [
    "from makewassersteingan import WGANTrainer\n",
    "import dill as pickle"
   ]
  },
  {
   "cell_type": "code",
   "execution_count": 2,
   "id": "95166fe0",
   "metadata": {
    "scrolled": true
   },
   "outputs": [
    {
     "name": "stdout",
     "output_type": "stream",
     "text": [
      "./wgan/cifar10/\n",
      "Data Loaded\n",
      "\n",
      "Training Wasserstein GAN with\n",
      "-100 Latent Dimensions\n",
      "-for 100 Epochs\n",
      "-with Batch Size of 256\n",
      "-up to 5 Retries\n",
      "\n",
      "Attempt:1\n",
      "Epoch: 1\n",
      "Time Elapsed: 0:00:12.965871\n",
      "This Epoch: 0:00:12.238676\n",
      "Try:1, Epoch:1, C_Loss=-7.865, G_Loss=0.554\n",
      "\n",
      "Epoch: 2\n",
      "Time Elapsed: 0:00:23.460472\n",
      "This Epoch: 0:00:10.485601\n",
      "Try:1, Epoch:2, C_Loss=-39.207, G_Loss=0.399\n",
      "\n",
      "Epoch: 3\n"
     ]
    },
    {
     "name": "stderr",
     "output_type": "stream",
     "text": [
      "Exception ignored in: <function WeakKeyDictionary.__init__.<locals>.remove at 0x000001D80A358F70>\n",
      "Traceback (most recent call last):\n",
      "  File \"C:\\Users\\Shaunn\\AppData\\Local\\Programs\\Python\\Python39\\lib\\weakref.py\", line 371, in remove\n",
      "    self = selfref()\n",
      "KeyboardInterrupt: \n",
      "\n",
      "KeyboardInterrupt\n",
      "\n"
     ]
    }
   ],
   "source": [
    "savepath = './wgan/cifar10/'\n",
    "wgan = WGANTrainer('cifar10', savepath, latent_dim = 100, n_epochs=100, batchsize=256, retries = 5, n_critic = 5)\n",
    "wgan_losses = [wgan.c_losses, wgan.g_losses]\n",
    "with open('./wgan_losses.pkl', 'wb') as file:\n",
    "    pickle.dump(wgan_losses)"
   ]
  },
  {
   "cell_type": "code",
   "execution_count": null,
   "id": "6b3ad69e",
   "metadata": {},
   "outputs": [],
   "source": []
  }
 ],
 "metadata": {
  "kernelspec": {
   "display_name": "Python 3 (ipykernel)",
   "language": "python",
   "name": "python3"
  },
  "language_info": {
   "codemirror_mode": {
    "name": "ipython",
    "version": 3
   },
   "file_extension": ".py",
   "mimetype": "text/x-python",
   "name": "python",
   "nbconvert_exporter": "python",
   "pygments_lexer": "ipython3",
   "version": "3.9.11"
  }
 },
 "nbformat": 4,
 "nbformat_minor": 5
}
