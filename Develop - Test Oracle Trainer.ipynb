{
 "cells": [
  {
   "cell_type": "code",
   "execution_count": 1,
   "id": "6bfcd583",
   "metadata": {},
   "outputs": [],
   "source": [
    "from oracletrainer import OracleTrainer"
   ]
  },
  {
   "cell_type": "code",
   "execution_count": null,
   "id": "ec2d5e16",
   "metadata": {},
   "outputs": [],
   "source": [
    "ora = OracleTrainer('cifar10', 'vgg16', 'cifar10oracle123', './oracles/', lr = 0.0001, epochs = 50, \n",
    "                    batchsize = 50, earlystopping_patience = 3)"
   ]
  },
  {
   "cell_type": "code",
   "execution_count": 2,
   "id": "73c7178c",
   "metadata": {},
   "outputs": [],
   "source": [
    "?OracleTrainer"
   ]
  }
 ],
 "metadata": {
  "kernelspec": {
   "display_name": "Python 3 (ipykernel)",
   "language": "python",
   "name": "python3"
  },
  "language_info": {
   "codemirror_mode": {
    "name": "ipython",
    "version": 3
   },
   "file_extension": ".py",
   "mimetype": "text/x-python",
   "name": "python",
   "nbconvert_exporter": "python",
   "pygments_lexer": "ipython3",
   "version": "3.9.6"
  }
 },
 "nbformat": 4,
 "nbformat_minor": 5
}
