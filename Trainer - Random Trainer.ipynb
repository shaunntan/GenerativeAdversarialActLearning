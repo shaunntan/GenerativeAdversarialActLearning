{
 "cells": [
  {
   "cell_type": "code",
   "execution_count": 1,
   "id": "2253e323",
   "metadata": {},
   "outputs": [],
   "source": [
    "from randomtrainer import RandomTrainer"
   ]
  },
  {
   "cell_type": "code",
   "execution_count": 4,
   "id": "6854831d",
   "metadata": {
    "scrolled": true
   },
   "outputs": [
    {
     "name": "stdout",
     "output_type": "stream",
     "text": [
      "Random trainer\n",
      "Training and testing with cifar10\n",
      "Starting no. of samples in labelled set: 20\n",
      "Starting no. of samples in unlabelled set: 9980\n",
      "Starting SVC Acc: 0.6855\n",
      "No. of samples in training set: 30\n",
      "SVC Acc: 0.6845\n",
      "No. of samples in training set: 40\n",
      "SVC Acc: 0.723\n",
      "No. of samples in training set: 50\n",
      "SVC Acc: 0.7135\n",
      "Ending no. of samples in unlabelled set: 9950\n"
     ]
    }
   ],
   "source": [
    "rnd = RandomTrainer('cifar10', 'cifar10', './oracles/cifar10ha.h5', \n",
    "                        n_samples_end = 50, start_samples = 20)"
   ]
  },
  {
   "cell_type": "code",
   "execution_count": null,
   "id": "f90bef7f",
   "metadata": {},
   "outputs": [],
   "source": []
  }
 ],
 "metadata": {
  "kernelspec": {
   "display_name": "Python 3 (ipykernel)",
   "language": "python",
   "name": "python3"
  },
  "language_info": {
   "codemirror_mode": {
    "name": "ipython",
    "version": 3
   },
   "file_extension": ".py",
   "mimetype": "text/x-python",
   "name": "python",
   "nbconvert_exporter": "python",
   "pygments_lexer": "ipython3",
   "version": "3.9.11"
  }
 },
 "nbformat": 4,
 "nbformat_minor": 5
}
