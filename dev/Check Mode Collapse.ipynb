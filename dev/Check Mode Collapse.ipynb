{
 "cells": [
  {
   "cell_type": "code",
   "execution_count": 8,
   "id": "b25b190c",
   "metadata": {},
   "outputs": [],
   "source": [
    "import dill as pickle\n",
    "import numpy as np"
   ]
  },
  {
   "cell_type": "code",
   "execution_count": 3,
   "id": "fd96722b",
   "metadata": {},
   "outputs": [],
   "source": [
    "with open('./results/result_gaal_cifar10_wgan.pkl', 'rb') as file:\n",
    "    wgan = pickle.load(file)\n",
    "\n",
    "with open('./results/result_gaal_cifar10.pkl', 'rb') as file:\n",
    "    gan = pickle.load(file)"
   ]
  },
  {
   "cell_type": "code",
   "execution_count": 9,
   "id": "63db4da3",
   "metadata": {},
   "outputs": [],
   "source": [
    "wgan_y = wgan[4][50:]\n",
    "gan_y = gan[4][50:]"
   ]
  },
  {
   "cell_type": "code",
   "execution_count": 10,
   "id": "690c99bc",
   "metadata": {},
   "outputs": [
    {
     "data": {
      "text/plain": [
       "0.43333333333333335"
      ]
     },
     "execution_count": 10,
     "metadata": {},
     "output_type": "execute_result"
    }
   ],
   "source": [
    "np.mean(wgan_y)"
   ]
  },
  {
   "cell_type": "code",
   "execution_count": 11,
   "id": "59d42d41",
   "metadata": {},
   "outputs": [
    {
     "data": {
      "text/plain": [
       "0.47333333333333333"
      ]
     },
     "execution_count": 11,
     "metadata": {},
     "output_type": "execute_result"
    }
   ],
   "source": [
    "np.mean(gan_y)"
   ]
  }
 ],
 "metadata": {
  "kernelspec": {
   "display_name": "Python 3 (ipykernel)",
   "language": "python",
   "name": "python3"
  },
  "language_info": {
   "codemirror_mode": {
    "name": "ipython",
    "version": 3
   },
   "file_extension": ".py",
   "mimetype": "text/x-python",
   "name": "python",
   "nbconvert_exporter": "python",
   "pygments_lexer": "ipython3",
   "version": "3.9.11"
  }
 },
 "nbformat": 4,
 "nbformat_minor": 5
}
