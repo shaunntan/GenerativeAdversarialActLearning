{
 "cells": [
  {
   "cell_type": "code",
   "execution_count": 1,
   "id": "4b75f9f1",
   "metadata": {},
   "outputs": [],
   "source": [
    "import numpy as np\n",
    "import matplotlib.pyplot as plt\n",
    "import pandas as pd\n",
    "\n",
    "import tensorflow as tf\n",
    "import tensorflow_datasets as tfds\n",
    "from tensorflow.keras.utils import to_categorical\n",
    "from tensorflow.keras.applications.vgg16 import VGG16\n",
    "from tensorflow.keras.layers import Dense, Flatten\n",
    "from tensorflow.keras.callbacks import EarlyStopping, ModelCheckpoint\n",
    "from tensorflow.keras.models import load_model\n",
    "from tensorflow.keras.preprocessing.image import ImageDataGenerator"
   ]
  },
  {
   "cell_type": "code",
   "execution_count": 2,
   "id": "d792639c",
   "metadata": {},
   "outputs": [],
   "source": [
    "(x_train, y_train), (x_test, y_test) = tf.keras.datasets.cifar10.load_data()"
   ]
  },
  {
   "cell_type": "code",
   "execution_count": 3,
   "id": "62185659",
   "metadata": {},
   "outputs": [],
   "source": [
    "y_train = np.squeeze(y_train)\n",
    "y_test = np.squeeze(y_test)"
   ]
  },
  {
   "cell_type": "code",
   "execution_count": 4,
   "id": "b9e2a690",
   "metadata": {},
   "outputs": [],
   "source": [
    "# Automobile(1) = Class 0, Horse(7) = Class 1\n",
    "x17_train = x_train[(y_train == 1) | (y_train == 7),]\n",
    "y17_train = y_train[(y_train == 1) | (y_train == 7)]\n",
    "y17_train = np.where(y17_train == 1, 0, 1).reshape((-1,1))\n",
    "\n",
    "x17_test = x_test[(y_test == 1) | (y_test == 7),]\n",
    "y17_test = y_test[(y_test == 1) | (y_test == 7)]\n",
    "y17_test = np.where(y17_test == 1, 0, 1).reshape((-1,1))"
   ]
  },
  {
   "cell_type": "code",
   "execution_count": 5,
   "id": "96d39212",
   "metadata": {},
   "outputs": [],
   "source": [
    "x17_train = x17_train/255\n",
    "x17_test = x17_test/255"
   ]
  },
  {
   "cell_type": "code",
   "execution_count": 6,
   "id": "40be1e3d",
   "metadata": {},
   "outputs": [],
   "source": [
    "base_model = VGG16(input_shape = (x17_train[0].shape[0],x17_train[0].shape[1],3),\n",
    "                   include_top = False, weights = 'imagenet')"
   ]
  },
  {
   "cell_type": "code",
   "execution_count": 7,
   "id": "f878edde",
   "metadata": {},
   "outputs": [
    {
     "name": "stdout",
     "output_type": "stream",
     "text": [
      "Model: \"cifar10horseautomobile_oracle\"\n",
      "_________________________________________________________________\n",
      " Layer (type)                Output Shape              Param #   \n",
      "=================================================================\n",
      " input_2 (InputLayer)        [(None, 32, 32, 3)]       0         \n",
      "                                                                 \n",
      " vgg16 (Functional)          (None, 1, 1, 512)         14714688  \n",
      "                                                                 \n",
      " flatten (Flatten)           (None, 512)               0         \n",
      "                                                                 \n",
      " dense (Dense)               (None, 1)                 513       \n",
      "                                                                 \n",
      "=================================================================\n",
      "Total params: 14,715,201\n",
      "Trainable params: 14,715,201\n",
      "Non-trainable params: 0\n",
      "_________________________________________________________________\n"
     ]
    }
   ],
   "source": [
    "model_name = 'cifar10horseautomobile_oracle'\n",
    "\n",
    "inputs = tf.keras.Input(shape=(x17_train[0].shape[0],x17_train[0].shape[1],3))\n",
    "x = base_model(inputs, training=False)\n",
    "x = Flatten()(x)\n",
    "outputs = Dense(1, activation = 'sigmoid')(x)\n",
    "model = tf.keras.Model(inputs, outputs, name = model_name)\n",
    "model.summary()"
   ]
  },
  {
   "cell_type": "code",
   "execution_count": 8,
   "id": "a6197f18",
   "metadata": {},
   "outputs": [],
   "source": [
    "train_gen = ImageDataGenerator(\n",
    "    rotation_range=20,\n",
    "    shear_range=10, validation_split = 0.2)\n",
    "train_gen.fit(x17_train)"
   ]
  },
  {
   "cell_type": "code",
   "execution_count": 9,
   "id": "bc6d565d",
   "metadata": {},
   "outputs": [],
   "source": [
    "lr = 0.0001\n",
    "batchsize = 50\n",
    "\n",
    "path =\"./oracles/cifar10horseautomobile.h5\"\n",
    "\n",
    "model.compile(optimizer=tf.keras.optimizers.Adam(learning_rate=lr),\n",
    "              loss=tf.keras.losses.BinaryCrossentropy(from_logits=False),\n",
    "              metrics=['accuracy'])\n",
    "earlystop = EarlyStopping(monitor='val_accuracy', patience = 3, restore_best_weights=True)\n",
    "checkpoint = ModelCheckpoint(path, monitor = 'val_accuracy', save_best_only=True)\n",
    "callbacks = [earlystop]"
   ]
  },
  {
   "cell_type": "code",
   "execution_count": 10,
   "id": "b92e4a8a",
   "metadata": {
    "scrolled": true
   },
   "outputs": [
    {
     "name": "stdout",
     "output_type": "stream",
     "text": [
      "Epoch 1/100\n",
      "160/160 [==============================] - 15s 41ms/step - loss: 0.1579 - accuracy: 0.9310 - val_loss: 0.0559 - val_accuracy: 0.9805\n",
      "Epoch 2/100\n",
      "160/160 [==============================] - 6s 40ms/step - loss: 0.0540 - accuracy: 0.9806 - val_loss: 0.0530 - val_accuracy: 0.9820\n",
      "Epoch 3/100\n",
      "160/160 [==============================] - 6s 40ms/step - loss: 0.0381 - accuracy: 0.9866 - val_loss: 0.0344 - val_accuracy: 0.9885\n",
      "Epoch 4/100\n",
      "160/160 [==============================] - 6s 39ms/step - loss: 0.0316 - accuracy: 0.9893 - val_loss: 0.0913 - val_accuracy: 0.9645\n",
      "Epoch 5/100\n",
      "160/160 [==============================] - 7s 41ms/step - loss: 0.0234 - accuracy: 0.9916 - val_loss: 0.0241 - val_accuracy: 0.9895\n",
      "Epoch 6/100\n",
      "160/160 [==============================] - 6s 39ms/step - loss: 0.0148 - accuracy: 0.9951 - val_loss: 0.0989 - val_accuracy: 0.9680\n",
      "Epoch 7/100\n",
      "160/160 [==============================] - 6s 40ms/step - loss: 0.0161 - accuracy: 0.9939 - val_loss: 0.0309 - val_accuracy: 0.9910\n",
      "Epoch 8/100\n",
      "160/160 [==============================] - 6s 39ms/step - loss: 0.0133 - accuracy: 0.9956 - val_loss: 0.0324 - val_accuracy: 0.9895\n",
      "Epoch 9/100\n",
      "160/160 [==============================] - 6s 39ms/step - loss: 0.0202 - accuracy: 0.9925 - val_loss: 0.0265 - val_accuracy: 0.9890\n",
      "Epoch 10/100\n",
      "160/160 [==============================] - 6s 39ms/step - loss: 0.0083 - accuracy: 0.9977 - val_loss: 0.0892 - val_accuracy: 0.9775\n"
     ]
    }
   ],
   "source": [
    "model.fit(train_gen.flow(x17_train, y17_train, batch_size = batchsize, subset = 'training'),\n",
    "          validation_data=train_gen.flow(x17_train, y17_train, batch_size = batchsize, subset = 'validation'),\n",
    "          steps_per_epoch=len(x17_train)*0.8/batchsize,\n",
    "          epochs = 100, \n",
    "          callbacks = callbacks)\n",
    "model.save(path, save_format = 'h5')"
   ]
  },
  {
   "cell_type": "code",
   "execution_count": 11,
   "id": "dfbdcce3",
   "metadata": {},
   "outputs": [
    {
     "name": "stdout",
     "output_type": "stream",
     "text": [
      "Model: \"cifar10horseautomobile_oracle\"\n",
      "_________________________________________________________________\n",
      " Layer (type)                Output Shape              Param #   \n",
      "=================================================================\n",
      " input_2 (InputLayer)        [(None, 32, 32, 3)]       0         \n",
      "                                                                 \n",
      " vgg16 (Functional)          (None, 1, 1, 512)         14714688  \n",
      "                                                                 \n",
      " flatten (Flatten)           (None, 512)               0         \n",
      "                                                                 \n",
      " dense (Dense)               (None, 1)                 513       \n",
      "                                                                 \n",
      "=================================================================\n",
      "Total params: 14,715,201\n",
      "Trainable params: 14,715,201\n",
      "Non-trainable params: 0\n",
      "_________________________________________________________________\n"
     ]
    }
   ],
   "source": [
    "model = load_model(path)\n",
    "model.summary()"
   ]
  },
  {
   "cell_type": "code",
   "execution_count": 12,
   "id": "f0df9ac8",
   "metadata": {},
   "outputs": [],
   "source": [
    "preds = model.predict(x17_test)\n",
    "preds = np.squeeze(np.round(preds, 0).astype('int'))"
   ]
  },
  {
   "cell_type": "code",
   "execution_count": 13,
   "id": "912e47fc",
   "metadata": {},
   "outputs": [
    {
     "data": {
      "text/plain": [
       "0.993"
      ]
     },
     "execution_count": 13,
     "metadata": {},
     "output_type": "execute_result"
    }
   ],
   "source": [
    "np.mean(preds == np.squeeze(y17_test))"
   ]
  }
 ],
 "metadata": {
  "kernelspec": {
   "display_name": "Python 3 (ipykernel)",
   "language": "python",
   "name": "python3"
  },
  "language_info": {
   "codemirror_mode": {
    "name": "ipython",
    "version": 3
   },
   "file_extension": ".py",
   "mimetype": "text/x-python",
   "name": "python",
   "nbconvert_exporter": "python",
   "pygments_lexer": "ipython3",
   "version": "3.9.6"
  }
 },
 "nbformat": 4,
 "nbformat_minor": 5
}
