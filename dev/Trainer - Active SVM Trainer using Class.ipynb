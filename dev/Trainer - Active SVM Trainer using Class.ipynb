{
 "cells": [
  {
   "cell_type": "code",
   "execution_count": 1,
   "id": "a5ff842a",
   "metadata": {},
   "outputs": [],
   "source": [
    "from activesvmtrainer import ActiveSVMTrainer"
   ]
  },
  {
   "cell_type": "code",
   "execution_count": 2,
   "id": "3f54aa64",
   "metadata": {
    "scrolled": true
   },
   "outputs": [
    {
     "name": "stdout",
     "output_type": "stream",
     "text": [
      "Active SVM trainer\n",
      "Training on mnist, testing on usps\n"
     ]
    },
    {
     "name": "stderr",
     "output_type": "stream",
     "text": [
      "INFO:root:Loading dataset = usps\n",
      "WARNING:root:Please cite the following paper when using or referencing this Extra Keras Dataset:\n",
      "WARNING:root:Hull, J. J. (1994). A database for handwritten text recognition research. IEEE Transactions on pattern analysis and machine intelligence, 16(5), 550-554.\n"
     ]
    },
    {
     "name": "stdout",
     "output_type": "stream",
     "text": [
      "(1201, 16, 16, 1)\n",
      "(1201, 28, 28)\n",
      "Starting no. of samples in labelled set: 20\n",
      "Starting no. of samples in unlabelled set: 11666\n",
      "Starting SVC Acc: 0.9367194004995837\n",
      "No. of samples in training set: 30\n",
      "SVC Acc: 0.9708576186511241\n",
      "No. of samples in training set: 40\n",
      "SVC Acc: 0.929225645295587\n",
      "No. of samples in training set: 50\n",
      "SVC Acc: 0.8659450457951707\n",
      "Ending no. of samples in unlabelled set: 11636\n"
     ]
    }
   ],
   "source": [
    "asvm = ActiveSVMTrainer('mnist', 'usps', './oracles/cifar10ha.h5', \n",
    "                        n_samples_end = 50, start_samples = 20)"
   ]
  },
  {
   "cell_type": "code",
   "execution_count": 6,
   "id": "40e8b906",
   "metadata": {},
   "outputs": [],
   "source": [
    "import matplotlib.pyplot as plt"
   ]
  },
  {
   "cell_type": "code",
   "execution_count": 7,
   "id": "2325f39e",
   "metadata": {},
   "outputs": [
    {
     "data": {
      "text/plain": [
       "[<matplotlib.lines.Line2D at 0x1c964355fd0>]"
      ]
     },
     "execution_count": 7,
     "metadata": {},
     "output_type": "execute_result"
    },
    {
     "data": {
      "image/png": "[encoded data removed]",
      "text/plain": [
       "<Figure size 432x288 with 1 Axes>"
      ]
     },
     "metadata": {
      "needs_background": "light"
     },
     "output_type": "display_data"
    }
   ],
   "source": [
    "plt.plot(asvm.n_samples, asvm.learner_acc_history)"
   ]
  },
  {
   "cell_type": "code",
   "execution_count": null,
   "id": "bbef0805",
   "metadata": {},
   "outputs": [],
   "source": []
  }
 ],
 "metadata": {
  "kernelspec": {
   "display_name": "Python 3 (ipykernel)",
   "language": "python",
   "name": "python3"
  },
  "language_info": {
   "codemirror_mode": {
    "name": "ipython",
    "version": 3
   },
   "file_extension": ".py",
   "mimetype": "text/x-python",
   "name": "python",
   "nbconvert_exporter": "python",
   "pygments_lexer": "ipython3",
   "version": "3.9.11"
  }
 },
 "nbformat": 4,
 "nbformat_minor": 5
}
