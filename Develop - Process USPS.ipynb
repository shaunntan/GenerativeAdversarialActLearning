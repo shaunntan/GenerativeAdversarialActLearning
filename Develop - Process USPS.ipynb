{
 "cells": [
  {
   "cell_type": "code",
   "execution_count": 88,
   "id": "3a664c84",
   "metadata": {},
   "outputs": [
    {
     "name": "stderr",
     "output_type": "stream",
     "text": [
      "INFO:root:Loading dataset = usps\n",
      "WARNING:root:Please cite the following paper when using or referencing this Extra Keras Dataset:\n",
      "WARNING:root:Hull, J. J. (1994). A database for handwritten text recognition research. IEEE Transactions on pattern analysis and machine intelligence, 16(5), 550-554.\n"
     ]
    }
   ],
   "source": [
    "from extra_keras_datasets import usps\n",
    "\n",
    "# Load dataset\n",
    "(x_test, y_test), (_, _) = usps.load_data()\n",
    "\n",
    "y_test = y_test.astype('int')\n",
    "x_test = x_test[(y_test == 5) | (y_test == 7),]\n",
    "x_test = np.expand_dims(x_test, axis=3)\n",
    "x_test = (x_test + 1) / 2\n",
    "x_test = tf.image.pad_to_bounding_box(x_test,4,4,24,24)\n",
    "x_test = tf.image.resize(x_test, [28,28])\n",
    "x_test = (x_test * 2) - 1\n",
    "\n",
    "y_test = y_test[(y_test == 5) | (y_test == 7)]\n",
    "y_test = np.where(y_test == 5, 0, 1).reshape((-1,1))\n"
   ]
  },
  {
   "cell_type": "code",
   "execution_count": 100,
   "id": "e7fb2fb7",
   "metadata": {},
   "outputs": [
    {
     "data": {
      "text/plain": [
       "<matplotlib.image.AxesImage at 0x25663a37fd0>"
      ]
     },
     "execution_count": 100,
     "metadata": {},
     "output_type": "execute_result"
    },
    {
     "data": {
      "image/png": "[encoded data removed]",
      "text/plain": [
       "<Figure size 432x288 with 1 Axes>"
      ]
     },
     "metadata": {
      "needs_background": "light"
     },
     "output_type": "display_data"
    }
   ],
   "source": [
    "import matplotlib.pyplot as plt\n",
    "\n",
    "plt.imshow(np.squeeze(x_test[np.random.choice(1000)]), cmap = 'gray')"
   ]
  }
 ],
 "metadata": {
  "kernelspec": {
   "display_name": "Python 3 (ipykernel)",
   "language": "python",
   "name": "python3"
  },
  "language_info": {
   "codemirror_mode": {
    "name": "ipython",
    "version": 3
   },
   "file_extension": ".py",
   "mimetype": "text/x-python",
   "name": "python",
   "nbconvert_exporter": "python",
   "pygments_lexer": "ipython3",
   "version": "3.9.6"
  }
 },
 "nbformat": 4,
 "nbformat_minor": 5
}
